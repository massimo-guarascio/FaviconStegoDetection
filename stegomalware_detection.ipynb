{
 "cells": [
  {
   "cell_type": "code",
   "execution_count": 1,
   "metadata": {
    "collapsed": true
   },
   "outputs": [],
   "source": [
    "#import\n",
    "import os\n",
    "import numpy as np\n",
    "import tensorflow as tf\n",
    "import sklearn\n",
    "import glob\n",
    "\n",
    "import matplotlib.pyplot as plt\n",
    "from PIL import Image\n",
    "from skimage.transform import resize\n",
    "\n",
    "from tensorflow.keras.callbacks import ModelCheckpoint\n",
    "from tensorflow.keras.optimizers import Adam, RMSprop\n",
    "\n",
    "from sklearn.metrics import *\n",
    "\n",
    "from stego_detector_extended import *"
   ]
  },
  {
   "cell_type": "code",
   "execution_count": 2,
   "metadata": {},
   "outputs": [],
   "source": [
    "#Utils\n",
    "\n",
    "#convert to binary\n",
    "def messageToBinary(message):\n",
    "  if type(message) == str:\n",
    "    return ''.join([ format(ord(i), \"08b\") for i in message ])\n",
    "  elif type(message) == bytes or type(message) == np.ndarray:\n",
    "    return [ format(i, \"08b\") for i in message ]\n",
    "  elif type(message) == int or type(message) == np.uint8:\n",
    "    return format(message, \"08b\")\n",
    "  else:\n",
    "    raise TypeError(\"Input type not supported\")\n",
    "  \n",
    "#extract k lsb for each channel\n",
    "def extract_k_lsb_features(data, k=4):\n",
    "    lsb_training = []\n",
    "    for img in data:\n",
    "        binary_data = []\n",
    "        for values in img:\n",
    "            for pixel in values:\n",
    "                r, g, b = messageToBinary(pixel)\n",
    "                for i in range(1,k+1):\n",
    "                    binary_data.append(int(r[-1-i+1]))  # extracting data from the least significant bit of red pixel\n",
    "                    binary_data.append(int(g[-1-i+1]))  # extracting data from the least significant bit of green pixel\n",
    "                    binary_data.append(int(b[-1-i+1]))  # extracting data from the least significant bit of blue pixel\n",
    "                # split by 8-bits\n",
    "\n",
    "        lsb_training.append(np.array(binary_data))\n",
    "        \n",
    "\n",
    "    return np.array(lsb_training)\n",
    "\n",
    "# load images in the image_path\n",
    "def load_images(image_path):\n",
    "    images = []\n",
    "    for f_name in sorted(glob.glob(image_path + '/*.png')):\n",
    "        img = np.asarray(Image.open(f_name).convert('RGB'))\n",
    "        images.append(img)\n",
    "    return images\n",
    "\n",
    "#convert an image into array\n",
    "def convert_np_array(vector):\n",
    "    result = []\n",
    "    for v in vector:\n",
    "        result.append(v)\n",
    "    return np.array(result)\n",
    "\n",
    "#laod data\n",
    "def load_data(main_data_folder, usage_folder_name, legit_folder_name, stego_folder_names):\n",
    "    \n",
    "    data_path = os.path.join(main_data_folder, usage_folder_name)\n",
    "    data_to_load = []\n",
    "    num_stego_images_for_class = []\n",
    "    data_to_load.append(convert_np_array(load_images(os.path.join(data_path,legit_folder_name))))\n",
    "    for stego_folder_name in stego_folder_names:\n",
    "        stego_images = convert_np_array(load_images(os.path.join(data_path,stego_folder_name)))\n",
    "        num_stego_images_for_class.append(stego_images.shape[0])\n",
    "        data_to_load.append(stego_images)\n",
    "\n",
    "    num_legit_images = data_to_load[0].shape[0]\n",
    "    print(\"#legit images\", data_to_load[0].shape[0])\n",
    "    print(\"#stego images\", num_stego_images_for_class)\n",
    "\n",
    "    data_to_load = np.concatenate(data_to_load)\n",
    "    print(\"data shape: \", data_to_load.shape)\n",
    "\n",
    "    print(\"done\")\n",
    "    \n",
    "    return data_to_load, num_legit_images, np.array(num_stego_images_for_class)\n",
    "\n",
    "#create target variable\n",
    "def create_target(legits, stegos):\n",
    "    y_legit = np.zeros(legits, dtype=np.int8)\n",
    "    y_stego = np.ones(stegos, dtype=np.int8)\n",
    "    return np.concatenate([y_legit, y_stego])"
   ]
  },
  {
   "cell_type": "code",
   "execution_count": 3,
   "metadata": {},
   "outputs": [],
   "source": [
    "#Parameters ---------------------------\n",
    "\n",
    "data_folder = \"/Users/Massimo-Icar/Desktop/stegomalware/full_dataset/dataset\"\n",
    "legit_folder = 'legit'\n",
    "stego_folders = ['LSB_stego_php','LSB_stego_url']\n",
    "cwd = './'\n",
    "model_space = 'output/models-separate'\n",
    "seed = 230782\n",
    "k_lsb = 3 # we use only 2-bits\n",
    "#------------------------------------"
   ]
  },
  {
   "cell_type": "markdown",
   "metadata": {},
   "source": [
    "## Stego Malware Detection task"
   ]
  },
  {
   "cell_type": "code",
   "execution_count": 4,
   "metadata": {},
   "outputs": [
    {
     "name": "stdout",
     "output_type": "stream",
     "text": [
      "#legit images 29999\n",
      "#stego images [29999, 119996]\n",
      "data shape:  (179994, 32, 32, 3)\n",
      "done\n",
      "#training shape, neg, pos:  (179994, 32, 32, 3) 29999 149995\n",
      "training set ready\n"
     ]
    }
   ],
   "source": [
    "#loading training set\n",
    "training_set, num_training_legit, num_training_stego_for_class  = load_data(data_folder, \"training\", legit_folder, stego_folders)\n",
    "num_training_stego = np.sum(num_training_stego_for_class)\n",
    "print(\"#training shape, neg, pos: \", training_set.shape, num_training_legit, num_training_stego)\n",
    "\n",
    "#lsb extraction\n",
    "training_set = extract_k_lsb_features(training_set, k_lsb)\n",
    "y_train = create_target(num_training_legit, num_training_stego)\n",
    "print(\"training set ready\")"
   ]
  },
  {
   "cell_type": "code",
   "execution_count": 6,
   "metadata": {},
   "outputs": [
    {
     "name": "stdout",
     "output_type": "stream",
     "text": [
      "#legit images 15000\n",
      "#stego images [15000, 60000]\n",
      "data shape:  (90000, 32, 32, 3)\n",
      "done\n",
      "#validation shape, neg, pos:  (90000, 32, 32, 3) 15000 75000\n",
      "validation set ready\n"
     ]
    }
   ],
   "source": [
    "#loading validation set\n",
    "validation, num_val_legit, num_val_stego_for_class  = load_data(data_folder, \"validation\", legit_folder, stego_folders)\n",
    "num_val_stego = np.sum(num_val_stego_for_class)\n",
    "print(\"#validation shape, neg, pos: \", validation.shape, num_val_legit, num_val_stego)\n",
    "\n",
    "#lsb extraction\n",
    "validation = extract_k_lsb_features(validation, k_lsb)\n",
    "y_val = create_target(num_val_legit, num_val_stego)\n",
    "print(\"validation set ready\")"
   ]
  },
  {
   "cell_type": "code",
   "execution_count": 5,
   "metadata": {},
   "outputs": [
    {
     "name": "stdout",
     "output_type": "stream",
     "text": [
      "best model path:  ./output/models-separate/best_model_stego_detection\n"
     ]
    },
    {
     "name": "stderr",
     "output_type": "stream",
     "text": [
      "2022-02-22 12:18:24.478453: I tensorflow/core/platform/cpu_feature_guard.cc:151] This TensorFlow binary is optimized with oneAPI Deep Neural Network Library (oneDNN) to use the following CPU instructions in performance-critical operations:  AVX2 FMA\n",
      "To enable them in other operations, rebuild TensorFlow with the appropriate compiler flags.\n"
     ]
    }
   ],
   "source": [
    "#init classifier\n",
    "detector = StegoDetectorExtended(training_set.shape[1])\n",
    "\n",
    "#compile classifier\n",
    "detector.compile(loss='binary_crossentropy', optimizer=RMSprop(learning_rate=1e-3), metrics=['accuracy'])\n",
    "\n",
    "#init callbacks\n",
    "model_path = os.path.join(cwd, model_space, 'best_model_stego_detection')\n",
    "print(\"best model path: \", model_path)\n",
    "check = ModelCheckpoint(model_path, monitor='val_loss', verbose=0, save_best_only=True, save_weights_only=True, mode='min')"
   ]
  },
  {
   "cell_type": "code",
   "execution_count": 8,
   "metadata": {},
   "outputs": [
    {
     "name": "stdout",
     "output_type": "stream",
     "text": [
      "Epoch 1/20\n",
      "704/704 [==============================] - 27s 37ms/step - loss: 0.0260 - accuracy: 0.9924 - val_loss: 0.0041 - val_accuracy: 0.9984\n",
      "Epoch 2/20\n",
      "704/704 [==============================] - 21s 30ms/step - loss: 0.0044 - accuracy: 0.9991 - val_loss: 2.4207e-04 - val_accuracy: 0.9999\n",
      "Epoch 3/20\n",
      "704/704 [==============================] - 22s 31ms/step - loss: 0.0027 - accuracy: 0.9995 - val_loss: 0.0018 - val_accuracy: 0.9994\n",
      "Epoch 4/20\n",
      "704/704 [==============================] - 22s 32ms/step - loss: 0.0013 - accuracy: 0.9997 - val_loss: 7.1227e-05 - val_accuracy: 1.0000\n",
      "Epoch 5/20\n",
      "704/704 [==============================] - 22s 31ms/step - loss: 0.0014 - accuracy: 0.9997 - val_loss: 2.7373e-04 - val_accuracy: 1.0000\n",
      "Epoch 6/20\n",
      "704/704 [==============================] - 22s 31ms/step - loss: 8.3650e-04 - accuracy: 0.9999 - val_loss: 1.5973e-04 - val_accuracy: 1.0000\n",
      "Epoch 7/20\n",
      "704/704 [==============================] - 23s 32ms/step - loss: 9.0436e-04 - accuracy: 0.9999 - val_loss: 2.2804e-05 - val_accuracy: 1.0000\n",
      "Epoch 8/20\n",
      "704/704 [==============================] - 22s 32ms/step - loss: 0.0010 - accuracy: 0.9999 - val_loss: 7.5962e-05 - val_accuracy: 1.0000\n",
      "Epoch 9/20\n",
      "704/704 [==============================] - 22s 31ms/step - loss: 5.5332e-04 - accuracy: 0.9999 - val_loss: 1.9969e-05 - val_accuracy: 1.0000\n",
      "Epoch 10/20\n",
      "704/704 [==============================] - 23s 33ms/step - loss: 6.2647e-04 - accuracy: 0.9999 - val_loss: 1.0849e-05 - val_accuracy: 1.0000\n",
      "Epoch 11/20\n",
      "704/704 [==============================] - 23s 33ms/step - loss: 2.4277e-04 - accuracy: 0.9999 - val_loss: 5.5266e-05 - val_accuracy: 1.0000\n",
      "Epoch 12/20\n",
      "704/704 [==============================] - 23s 33ms/step - loss: 4.4793e-04 - accuracy: 0.9999 - val_loss: 1.0905e-04 - val_accuracy: 1.0000\n",
      "Epoch 13/20\n",
      "704/704 [==============================] - 23s 33ms/step - loss: 4.7276e-04 - accuracy: 0.9999 - val_loss: 3.4893e-05 - val_accuracy: 1.0000\n",
      "Epoch 14/20\n",
      "704/704 [==============================] - 23s 33ms/step - loss: 2.8911e-04 - accuracy: 1.0000 - val_loss: 1.6896e-05 - val_accuracy: 1.0000\n",
      "Epoch 15/20\n",
      "704/704 [==============================] - 23s 33ms/step - loss: 3.0675e-04 - accuracy: 1.0000 - val_loss: 1.1825e-05 - val_accuracy: 1.0000\n",
      "Epoch 16/20\n",
      "704/704 [==============================] - 24s 35ms/step - loss: 2.3973e-04 - accuracy: 1.0000 - val_loss: 2.7136e-05 - val_accuracy: 1.0000\n",
      "Epoch 17/20\n",
      "704/704 [==============================] - 24s 35ms/step - loss: 2.9058e-04 - accuracy: 1.0000 - val_loss: 7.4813e-06 - val_accuracy: 1.0000\n",
      "Epoch 18/20\n",
      "704/704 [==============================] - 24s 34ms/step - loss: 1.5154e-04 - accuracy: 1.0000 - val_loss: 1.4058e-05 - val_accuracy: 1.0000\n",
      "Epoch 19/20\n",
      "704/704 [==============================] - 24s 34ms/step - loss: 4.3709e-04 - accuracy: 1.0000 - val_loss: 1.1829e-05 - val_accuracy: 1.0000\n",
      "Epoch 20/20\n",
      "704/704 [==============================] - 24s 34ms/step - loss: 1.0078e-04 - accuracy: 1.0000 - val_loss: 2.7937e-05 - val_accuracy: 1.0000\n"
     ]
    },
    {
     "data": {
      "text/plain": [
       "<keras.callbacks.History at 0x164c98c90>"
      ]
     },
     "execution_count": 8,
     "metadata": {},
     "output_type": "execute_result"
    }
   ],
   "source": [
    "#training model\n",
    "detector.fit(training_set, y_train, batch_size=256, epochs=20, validation_data=(validation, y_val), callbacks=[check], verbose=1)"
   ]
  },
  {
   "cell_type": "code",
   "execution_count": 6,
   "metadata": {},
   "outputs": [
    {
     "data": {
      "text/plain": [
       "<tensorflow.python.training.tracking.util.CheckpointLoadStatus at 0x15fa19d10>"
      ]
     },
     "execution_count": 6,
     "metadata": {},
     "output_type": "execute_result"
    }
   ],
   "source": [
    "#reload best model\n",
    "detector.load_weights(model_path)"
   ]
  },
  {
   "cell_type": "code",
   "execution_count": 10,
   "metadata": {},
   "outputs": [
    {
     "name": "stdout",
     "output_type": "stream",
     "text": [
      "#legit images 15001\n",
      "#stego images [15001, 60004]\n",
      "data shape:  (90006, 32, 32, 3)\n",
      "done\n",
      "#test shape, neg, pos:  (90006, 32, 32, 3) 15001 75005\n",
      "test set ready\n"
     ]
    }
   ],
   "source": [
    "#loading test set\n",
    "test, num_test_legit, num_test_stego_for_class  = load_data(data_folder, \"test\", legit_folder, stego_folders)\n",
    "num_test_stego = np.sum(num_test_stego_for_class)\n",
    "print(\"#test shape, neg, pos: \", test.shape, num_test_legit, num_test_stego)\n",
    "\n",
    "#lsb extraction\n",
    "test = extract_k_lsb_features(test, k_lsb)\n",
    "y_test = create_target(num_test_legit, num_test_stego)\n",
    "print(\"test set ready\")"
   ]
  },
  {
   "cell_type": "code",
   "execution_count": 11,
   "metadata": {},
   "outputs": [
    {
     "name": "stdout",
     "output_type": "stream",
     "text": [
      "acc;prec;rec;f1;auc;auc-pr\n",
      "1.0;1.0;1.0;1.0;1.0;1.0\n"
     ]
    }
   ],
   "source": [
    "y_pred_score = detector.predict(test)\n",
    "\n",
    "y_pred_label = np.around(y_pred_score, 0)\n",
    "\n",
    "report_map = classification_report(y_test, y_pred_label, output_dict=True)\n",
    "\n",
    "acc_score = accuracy_score(y_test, y_pred_label)\n",
    "\n",
    "auc_score = roc_auc_score(y_test, y_pred_score)\n",
    "\n",
    "pr1, rec1, thr1 = precision_recall_curve(y_test, y_pred_score)\n",
    "\n",
    "auc_score_pr = auc(rec1, pr1)\n",
    "\n",
    "result = str(acc_score)+\";\"+str(report_map['macro avg']['precision']) + \";\" + str(\n",
    "        report_map['macro avg']['recall']) + \";\" + str(report_map['macro avg']['f1-score']) + \";\" + str(\n",
    "        auc_score) + \";\" + str(auc_score_pr)\n",
    "\n",
    "print(\"acc;prec;rec;f1;auc;auc-pr\")\n",
    "print(result)"
   ]
  },
  {
   "cell_type": "code",
   "execution_count": 7,
   "metadata": {},
   "outputs": [
    {
     "name": "stdout",
     "output_type": "stream",
     "text": [
      "#legit images 15001\n",
      "#stego images [15001, 60004]\n",
      "data shape:  (90006, 32, 32, 3)\n",
      "done\n",
      "#test unseen shape, neg, pos:  (90006, 32, 32, 3) 15001 75005\n",
      "test set unseen ready\n"
     ]
    }
   ],
   "source": [
    "#loading test set unseen\n",
    "test_unseen, num_test_unseen_legit, num_test_unseen_stego_for_class  = load_data(data_folder, \"test_unseen\", legit_folder, stego_folders)\n",
    "num_test_unseen_stego = np.sum(num_test_unseen_stego_for_class)\n",
    "print(\"#test unseen shape, neg, pos: \", test_unseen.shape, num_test_unseen_legit, num_test_unseen_stego)\n",
    "\n",
    "#lsb extraction\n",
    "test_unseen = extract_k_lsb_features(test_unseen, k_lsb)\n",
    "y_test_unseen = create_target(num_test_unseen_legit, num_test_unseen_stego)\n",
    "print(\"test set unseen ready\")"
   ]
  },
  {
   "cell_type": "code",
   "execution_count": 8,
   "metadata": {},
   "outputs": [
    {
     "name": "stdout",
     "output_type": "stream",
     "text": [
      "acc;prec;rec;f1;auc;auc-pr\n",
      "0.9991222807368397;0.9973806366047746;0.9994733684421039;0.9984234242382659;0.9999999893347554;0.9999999978668397\n"
     ]
    }
   ],
   "source": [
    "y_pred_score = detector.predict(test_unseen)\n",
    "\n",
    "y_pred_label = np.around(y_pred_score, 0)\n",
    "\n",
    "report_map = classification_report(y_test_unseen, y_pred_label, output_dict=True)\n",
    "\n",
    "acc_score = accuracy_score(y_test_unseen, y_pred_label)\n",
    "\n",
    "auc_score = roc_auc_score(y_test_unseen, y_pred_score)\n",
    "\n",
    "pr1, rec1, thr1 = precision_recall_curve(y_test_unseen, y_pred_score)\n",
    "\n",
    "auc_score_pr = auc(rec1, pr1)\n",
    "\n",
    "result = str(acc_score)+\";\"+str(report_map['macro avg']['precision']) + \";\" + str(\n",
    "        report_map['macro avg']['recall']) + \";\" + str(report_map['macro avg']['f1-score']) + \";\" + str(\n",
    "        auc_score) + \";\" + str(auc_score_pr)\n",
    "\n",
    "print(\"acc;prec;rec;f1;auc;auc-pr\")\n",
    "print(result)"
   ]
  },
  {
   "cell_type": "code",
   "execution_count": 9,
   "metadata": {},
   "outputs": [
    {
     "name": "stdout",
     "output_type": "stream",
     "text": [
      "[[15001     0]\n",
      " [   79 74926]]\n"
     ]
    }
   ],
   "source": [
    "#plot confusion matrix\n",
    "cm = confusion_matrix(y_test_unseen, y_pred_label)\n",
    "print(cm)\n"
   ]
  },
  {
   "cell_type": "code",
   "execution_count": 13,
   "metadata": {},
   "outputs": [
    {
     "name": "stdout",
     "output_type": "stream",
     "text": [
      "90006/90006 [==============================] - 117s 1ms/step\n"
     ]
    },
    {
     "data": {
      "text/plain": [
       "array([[1.7922089e-14],\n",
       "       [7.5051402e-20],\n",
       "       [3.8525699e-21],\n",
       "       ...,\n",
       "       [1.0000000e+00],\n",
       "       [1.0000000e+00],\n",
       "       [1.0000000e+00]], dtype=float32)"
      ]
     },
     "execution_count": 13,
     "metadata": {},
     "output_type": "execute_result"
    }
   ],
   "source": [
    "#time to predict\n",
    "detector.predict(test_unseen, batch_size=1, verbose=1)"
   ]
  },
  {
   "cell_type": "code",
   "execution_count": null,
   "metadata": {},
   "outputs": [],
   "source": []
  }
 ],
 "metadata": {
  "kernelspec": {
   "display_name": "Python 3",
   "language": "python",
   "name": "python3"
  },
  "language_info": {
   "codemirror_mode": {
    "name": "ipython",
    "version": 3
   },
   "file_extension": ".py",
   "mimetype": "text/x-python",
   "name": "python",
   "nbconvert_exporter": "python",
   "pygments_lexer": "ipython3",
   "version": "3.6.15"
  }
 },
 "nbformat": 4,
 "nbformat_minor": 1
}
